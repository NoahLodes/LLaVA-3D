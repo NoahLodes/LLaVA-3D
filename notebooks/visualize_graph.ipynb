{
 "cells": [
  {
   "cell_type": "code",
   "execution_count": 238,
   "metadata": {},
   "outputs": [],
   "source": [
    "import json\n",
    "from graphviz import Digraph\n",
    "import numpy as np\n",
    "import matplotlib.colors as mcolors\n",
    "import random"
   ]
  },
  {
   "cell_type": "code",
   "execution_count": 239,
   "metadata": {},
   "outputs": [],
   "source": [
    "node_color_list = list(mcolors.TABLEAU_COLORS.values())\n",
    "scan_id = '754e884c-ea24-2175-8b34-cead19d4198d'\n"
   ]
  },
  {
   "cell_type": "code",
   "execution_count": 240,
   "metadata": {},
   "outputs": [
    {
     "name": "stdout",
     "output_type": "stream",
     "text": [
      "953\n"
     ]
    }
   ],
   "source": [
    "with open('../data/3RScan/relationships.json') as file:\n",
    "    scans = json.load(file)['scans']\n",
    "with open('../data/3RScan/objects.json') as file:\n",
    "    objects_json = json.load(file)['scans']\n",
    "classes = []\n",
    "with open('../data/3RScan/classes.txt') as objects:\n",
    "    for x in objects:\n",
    "        classes.append(x.split('\\t')[1])\n",
    "rels = []\n",
    "with open('../data/3RScan/relationships.txt') as file:\n",
    "    for x in file:\n",
    "        rels.append(x.split('\\n')[0])\n",
    "\n",
    "for idx, scan in enumerate(objects_json):\n",
    "    if scan['scan'] == scan_id:\n",
    "        print(idx)"
   ]
  },
  {
   "cell_type": "code",
   "execution_count": 241,
   "metadata": {},
   "outputs": [],
   "source": [
    "relationships = scans[93]['relationships']\n",
    "objects = objects_json[953]['objects']"
   ]
  },
  {
   "cell_type": "code",
   "execution_count": 242,
   "metadata": {},
   "outputs": [],
   "source": [
    "sentences = []\n",
    "objects_set = []\n",
    "for relationship in relationships:\n",
    "    for object in objects:\n",
    "        if relationship[0] == int(object['id']):\n",
    "            object_1 = object['label']\n",
    "            objects_set.append(object_1)\n",
    "    for object in objects:\n",
    "        if relationship[1] == int(object['id']):\n",
    "            object_2 = object['label']\n",
    "            objects_set.append(object_2)\n",
    "    rel = rels[relationship[2]]\n",
    "    if not (rel.startswith('same')):\n",
    "        sentence = object_1 + \" \" + rel + \" \" + object_2\n",
    "        sentences.append(sentence)\n",
    "objects_set = list(set(objects_set))\n",
    "sentences = list(set(sentences))\n",
    "objects_set = objects_set[:9]"
   ]
  },
  {
   "cell_type": "code",
   "execution_count": 243,
   "metadata": {},
   "outputs": [
    {
     "data": {
      "text/plain": [
       "'graph.png'"
      ]
     },
     "execution_count": 243,
     "metadata": {},
     "output_type": "execute_result"
    }
   ],
   "source": [
    "dot = Digraph(comment='The Scene Graph')\n",
    "dot.attr(rankdir='TB')\n",
    "filename='graph'\n",
    "dot.attr(label=\"Scan: \" + scan_id)\n",
    "dot.attr('node', shape='oval', fontname='Sans')\n",
    "g_colors = list(mcolors.TABLEAU_COLORS.values())\n",
    "object_to_id = {obj: str(idx) for idx, obj in enumerate(objects_set)}\n",
    "\n",
    "for idx, object in enumerate(objects_set):\n",
    "    id = str(idx)\n",
    "    dot.attr('node', fillcolor=g_colors[idx], style='filled')\n",
    "    dot.node(id, object)\n",
    "dot.attr('edge', fontname='Sans', color='black', style='filled')\n",
    "for sentence, relationship in zip(sentences, relationships):\n",
    "    object_1 = sentence.split()[0]\n",
    "    object_2 = sentence.split()[-1]\n",
    "    if object_1 in object_to_id and object_2 in object_to_id:\n",
    "            id_1 = object_to_id[object_1]\n",
    "            id_2 = object_to_id[object_2]\n",
    "            dot.edge(id_1, id_2, relationship[3])\n",
    "dot.render(filename, format=\"png\")"
   ]
  }
 ],
 "metadata": {
  "kernelspec": {
   "display_name": "open3dsg",
   "language": "python",
   "name": "python3"
  },
  "language_info": {
   "codemirror_mode": {
    "name": "ipython",
    "version": 3
   },
   "file_extension": ".py",
   "mimetype": "text/x-python",
   "name": "python",
   "nbconvert_exporter": "python",
   "pygments_lexer": "ipython3",
   "version": "3.9.20"
  }
 },
 "nbformat": 4,
 "nbformat_minor": 2
}
